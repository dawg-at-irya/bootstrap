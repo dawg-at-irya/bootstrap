{
  "nbformat": 4,
  "nbformat_minor": 0,
  "metadata": {
    "colab": {
      "provenance": [],
      "authorship_tag": "ABX9TyPVpcY8hzCnOfJ1kdspSbDU",
      "include_colab_link": true
    },
    "kernelspec": {
      "name": "python3",
      "display_name": "Python 3"
    },
    "language_info": {
      "name": "python"
    }
  },
  "cells": [
    {
      "cell_type": "markdown",
      "metadata": {
        "id": "view-in-github",
        "colab_type": "text"
      },
      "source": [
        "<a href=\"https://colab.research.google.com/github/dawg-at-irya/bootstrap/blob/main/bootstrap_hypothesis_testing.ipynb\" target=\"_parent\"><img src=\"https://colab.research.google.com/assets/colab-badge.svg\" alt=\"Open In Colab\"/></a>"
      ]
    },
    {
      "cell_type": "markdown",
      "source": [
        "#An example of using bootstrap for hypothesis testing\n",
        "### The following data are absolute magnitudes in the Ks-band for globular clusters in the Milky Way and M31. Are the two samples drawn from distributions with the same mean?\n",
        "\n",
        "##### The $Z$ test is one way to answer this question. However, it assumes that the two samples are drawn from Gaussian distributions. A bootstrap implementation does not make any such assumptions. Let's illustrate this."
      ],
      "metadata": {
        "id": "_W8BXZFcGC3v"
      }
    },
    {
      "cell_type": "code",
      "execution_count": 4,
      "metadata": {
        "colab": {
          "base_uri": "https://localhost:8080/"
        },
        "id": "GzPAL7EpGCIM",
        "outputId": "15856f78-ad20-4ace-81cc-a5f5bf01355b"
      },
      "outputs": [
        {
          "output_type": "stream",
          "name": "stdout",
          "text": [
            "Number of MW and M31 clusters: 82 and 360 respectively\n"
          ]
        }
      ],
      "source": [
        "import numpy as np\n",
        "#Our data set consists of the Ks luminosity functions for Milky Way and M31 globular clusters.\n",
        "data1 = np.loadtxt('https://www.irya.unam.mx/gente/s.srinivasan/Teaching/Statistics2023/python/datasets/globular_clusters/MW_GCs.txt')\n",
        "data2 = np.loadtxt('https://www.irya.unam.mx/gente/s.srinivasan/Teaching/Statistics2023/python/datasets/globular_clusters/M31_GCs.txt')\n",
        "n_MW = len(data1)\n",
        "n_M31 = len(data2)\n",
        "print(f\"Number of MW and M31 clusters: {n_MW} and {n_M31} respectively\")\n",
        "#M31 magnitudes not corrected for distance!\n",
        "data2 = data2 - 24.9\n"
      ]
    },
    {
      "cell_type": "markdown",
      "source": [
        "### Setup for the solution<br><br>\n",
        "##### Null hypothesis: the two population means are equal.<br>\n",
        "Alternate hypothesis: the two population means are unequal (two-tailed).<br>\n",
        "Test statistic: difference in sample means between subsamples generated from the bootstrap procedure (explained below).<br><br>\n",
        "\n",
        "### The intuition behind using bootstrap for this problem is as follows: if the samples are drawn from distributions with the same mean, then if we mix the samples together and then split them into two random pieces, the population means of these two subsamples should be equal.<br><br>\n",
        "\n",
        "### We will perform the bootstrap as follows:<br>\n",
        "##### 1.   Compute the sample means of the MW and M31 samples, and compute the difference between these sample means. This difference is the *observed value of the test statistic*.\n",
        "##### 2.   Combine the two samples into a sample of size n_MW + n_M31\n",
        "##### 3.   Draw B bootstrap samples from this combined sample\n",
        "##### 4.   Split each bootstrap sample into two random subsamples\n",
        "##### 5.   Compute the sample means for each subsample\n",
        "##### 6.   Compute the difference between these sample means. This is our test statistic.\n",
        "##### 7.   Find out what percent of the B test statistics are \"more extreme\" than the observed test statistic. If this fraction is greater than 5% (the typical threshold for hypothesis testing), we reject the null hypothesis.\n",
        "\n"
      ],
      "metadata": {
        "id": "1dFmXHBgG9bv"
      }
    },
    {
      "cell_type": "code",
      "source": [
        "test_statistic_obs = data1.mean() - data2.mean()\n",
        "print(f\"Observed value of the test statistic: {np.round(test_statistic_obs, 4)}\")"
      ],
      "metadata": {
        "colab": {
          "base_uri": "https://localhost:8080/"
        },
        "id": "nx3oIfjtG6Cq",
        "outputId": "4c5a92f4-4d36-4641-fc91-41de3e3938ae"
      },
      "execution_count": 16,
      "outputs": [
        {
          "output_type": "stream",
          "name": "stdout",
          "text": [
            "Observed value of the test statistic: 0.0402\n"
          ]
        }
      ]
    },
    {
      "cell_type": "code",
      "source": [
        "B = 10000\n",
        "data = np.append(data1, data2)\n",
        "data_boot = np.random.choice(data, size=(n_MW + n_M31, B))\n",
        "splits = np.random.choice(n_MW + n_M31, size=B)\n",
        "splits[splits == 0] = 1\n",
        "test_statistic = np.array([data_boot[:s].mean() - data_boot[s:].mean() for s in splits])"
      ],
      "metadata": {
        "id": "q7A5TirtKQeA"
      },
      "execution_count": 30,
      "outputs": []
    },
    {
      "cell_type": "code",
      "source": [
        "# Checking if the test statistic values from bootstrap resampling are \"more extreme\"\n",
        "#   than the observed value; if so, what is the fraction of such cases?\n",
        "# \"More extreme\" means the absolute value has to be greater than the absolute value of\n",
        "#   the observed value\n",
        "frac = len(np.nonzero(np.abs(test_statistic) > np.abs(test_statistic_obs))[0])"
      ],
      "metadata": {
        "id": "JxlFByaKKlZX"
      },
      "execution_count": 51,
      "outputs": []
    },
    {
      "cell_type": "code",
      "source": [
        "if frac >= 0.05:\n",
        "  print(f\"The test statistic exceeds the observed value in more than 5% of the bootstrap resamples. Null hypothesis rejected!\")\n",
        "else:\n",
        "  print(f\"The test statistic exceeds the observed value in fewer than 5% of the bootstrap resamples. Null hypothesis cannot be rejected!\")"
      ],
      "metadata": {
        "colab": {
          "base_uri": "https://localhost:8080/"
        },
        "id": "lUwfmYQeLGbr",
        "outputId": "163e3019-800a-42c7-bfec-abae228ae87d"
      },
      "execution_count": 49,
      "outputs": [
        {
          "output_type": "stream",
          "name": "stdout",
          "text": [
            "The test statistic exceeds the observed value in fewer than 5% of the bootstrap resamples. Null hypothesis cannot be rejected!\n"
          ]
        }
      ]
    },
    {
      "cell_type": "code",
      "source": [
        "import matplotlib.pyplot as plt\n",
        "bins, edges = np.histogram(test_statistic, bins='scott')\n",
        "# _ = plt.hist(test_statistic, histtype='step', density=True, bins='scott')\n",
        "plt.step(edges[:-1], bins/np.sum(bins))\n",
        "plt.yscale('log')"
      ],
      "metadata": {
        "colab": {
          "base_uri": "https://localhost:8080/",
          "height": 430
        },
        "id": "JIECacwWMA6m",
        "outputId": "5beb5909-af20-40c5-9753-940c87b0125a"
      },
      "execution_count": 50,
      "outputs": [
        {
          "output_type": "display_data",
          "data": {
            "text/plain": [
              "<Figure size 640x480 with 1 Axes>"
            ],
            "image/png": "[encoded data removed]"
          },
          "metadata": {}
        }
      ]
    },
    {
      "cell_type": "code",
      "source": [],
      "metadata": {
        "id": "gQCSTNysM3fF"
      },
      "execution_count": null,
      "outputs": []
    }
  ]
}